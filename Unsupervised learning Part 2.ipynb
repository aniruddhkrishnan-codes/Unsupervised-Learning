{
 "cells": [
  {
   "cell_type": "markdown",
   "metadata": {},
   "source": [
    "### DOMAIN:\n",
    "#### Manufacturing\n",
    "\n",
    "### CONTEXT:\n",
    "#### Company X curates and packages wine across various vineyards spread throughout the country.\n",
    "\n",
    "### DATA DESCRIPTION:\n",
    "#### The data concerns the chemical composition of the wine and its respective quality.\n",
    "\n",
    "### Attribute Information:\n",
    "#### 1.A, B, C, D: specific chemical composition measure of the wine\n",
    "#### 2. Quality: quality of wine [ Low and High ]\n",
    "\n",
    "### PROJECT OBJECTIVE:\n",
    "#### Goal is to build a synthetic data generation model using the existing data provided by the company."
   ]
  },
  {
   "cell_type": "code",
   "execution_count": 11,
   "metadata": {},
   "outputs": [],
   "source": [
    "#Loading the required packages\n",
    "import numpy as np   \n",
    "import pandas as pd    \n",
    "import matplotlib.pyplot as plt \n",
    "from scipy.stats import zscore\n",
    "from sklearn.cluster import KMeans\n",
    "from sklearn.metrics import silhouette_samples, silhouette_score\n",
    "from sklearn.metrics import confusion_matrix, classification_report,accuracy_score\n",
    "import seaborn as sns\n",
    "%matplotlib inline \n",
    "sns.set(color_codes=True)\n",
    "%matplotlib inline\n",
    "import warnings\n",
    "warnings.filterwarnings('ignore')\n",
    "from sklearn.model_selection import train_test_split\n",
    "import os"
   ]
  },
  {
   "cell_type": "code",
   "execution_count": 12,
   "metadata": {},
   "outputs": [],
   "source": [
    "os.chdir('C:\\\\Users\\\\RajSri\\\\Documents\\\\PGP AIML GL Notebooks\\\\19. Unsupervised Learning - Project')"
   ]
  },
  {
   "cell_type": "code",
   "execution_count": 13,
   "metadata": {},
   "outputs": [],
   "source": [
    "wi=pd.read_excel('Part2 - Company.xlsx')"
   ]
  },
  {
   "cell_type": "code",
   "execution_count": 14,
   "metadata": {},
   "outputs": [
    {
     "data": {
      "text/html": [
       "<div>\n",
       "<style scoped>\n",
       "    .dataframe tbody tr th:only-of-type {\n",
       "        vertical-align: middle;\n",
       "    }\n",
       "\n",
       "    .dataframe tbody tr th {\n",
       "        vertical-align: top;\n",
       "    }\n",
       "\n",
       "    .dataframe thead th {\n",
       "        text-align: right;\n",
       "    }\n",
       "</style>\n",
       "<table border=\"1\" class=\"dataframe\">\n",
       "  <thead>\n",
       "    <tr style=\"text-align: right;\">\n",
       "      <th></th>\n",
       "      <th>A</th>\n",
       "      <th>B</th>\n",
       "      <th>C</th>\n",
       "      <th>D</th>\n",
       "      <th>Quality</th>\n",
       "    </tr>\n",
       "  </thead>\n",
       "  <tbody>\n",
       "    <tr>\n",
       "      <td>0</td>\n",
       "      <td>47</td>\n",
       "      <td>27</td>\n",
       "      <td>45</td>\n",
       "      <td>108</td>\n",
       "      <td>Quality A</td>\n",
       "    </tr>\n",
       "    <tr>\n",
       "      <td>1</td>\n",
       "      <td>174</td>\n",
       "      <td>133</td>\n",
       "      <td>134</td>\n",
       "      <td>166</td>\n",
       "      <td>Quality B</td>\n",
       "    </tr>\n",
       "    <tr>\n",
       "      <td>2</td>\n",
       "      <td>159</td>\n",
       "      <td>163</td>\n",
       "      <td>135</td>\n",
       "      <td>131</td>\n",
       "      <td>NaN</td>\n",
       "    </tr>\n",
       "    <tr>\n",
       "      <td>3</td>\n",
       "      <td>61</td>\n",
       "      <td>23</td>\n",
       "      <td>3</td>\n",
       "      <td>44</td>\n",
       "      <td>Quality A</td>\n",
       "    </tr>\n",
       "    <tr>\n",
       "      <td>4</td>\n",
       "      <td>59</td>\n",
       "      <td>60</td>\n",
       "      <td>9</td>\n",
       "      <td>68</td>\n",
       "      <td>Quality A</td>\n",
       "    </tr>\n",
       "  </tbody>\n",
       "</table>\n",
       "</div>"
      ],
      "text/plain": [
       "     A    B    C    D    Quality\n",
       "0   47   27   45  108  Quality A\n",
       "1  174  133  134  166  Quality B\n",
       "2  159  163  135  131        NaN\n",
       "3   61   23    3   44  Quality A\n",
       "4   59   60    9   68  Quality A"
      ]
     },
     "execution_count": 14,
     "metadata": {},
     "output_type": "execute_result"
    }
   ],
   "source": [
    "wi.head()"
   ]
  },
  {
   "cell_type": "code",
   "execution_count": 15,
   "metadata": {
    "scrolled": true
   },
   "outputs": [
    {
     "name": "stdout",
     "output_type": "stream",
     "text": [
      "The dataset contains 61 rows and 5 columns\n"
     ]
    }
   ],
   "source": [
    "row, column = wi.shape\n",
    "print('The dataset contains', row, 'rows and', column, 'columns')"
   ]
  },
  {
   "cell_type": "code",
   "execution_count": 16,
   "metadata": {},
   "outputs": [],
   "source": [
    "#make a copy of the data\n",
    "wi1=wi.copy()"
   ]
  },
  {
   "cell_type": "code",
   "execution_count": 17,
   "metadata": {},
   "outputs": [],
   "source": [
    "#dropping the target variable\n",
    "wi=wi.drop('Quality',axis=1)\n"
   ]
  },
  {
   "cell_type": "code",
   "execution_count": 18,
   "metadata": {},
   "outputs": [
    {
     "name": "stdout",
     "output_type": "stream",
     "text": [
      "The data type of each attribute: \n",
      "\n",
      "<class 'pandas.core.frame.DataFrame'>\n",
      "RangeIndex: 61 entries, 0 to 60\n",
      "Data columns (total 5 columns):\n",
      "A          61 non-null int64\n",
      "B          61 non-null int64\n",
      "C          61 non-null int64\n",
      "D          61 non-null int64\n",
      "Quality    43 non-null object\n",
      "dtypes: int64(4), object(1)\n",
      "memory usage: 2.5+ KB\n"
     ]
    }
   ],
   "source": [
    "#checking for data types\n",
    "print('The data type of each attribute: \\n')\n",
    "wi1.info()"
   ]
  },
  {
   "cell_type": "code",
   "execution_count": 20,
   "metadata": {},
   "outputs": [
    {
     "data": {
      "text/plain": [
       "A           0\n",
       "B           0\n",
       "C           0\n",
       "D           0\n",
       "Quality    18\n",
       "dtype: int64"
      ]
     },
     "execution_count": 20,
     "metadata": {},
     "output_type": "execute_result"
    }
   ],
   "source": [
    "\n",
    "wi1.isnull().sum()"
   ]
  },
  {
   "cell_type": "code",
   "execution_count": 21,
   "metadata": {},
   "outputs": [
    {
     "data": {
      "image/png": "[encoded data removed]",
      "text/plain": [
       "<Figure size 720x576 with 4 Axes>"
      ]
     },
     "metadata": {
      "needs_background": "light"
     },
     "output_type": "display_data"
    }
   ],
   "source": [
    "#checking the distribution of the data points\n",
    "wi.hist(bins = 10, figsize = (10, 8), color = 'blue')\n",
    "plt.show()"
   ]
  },
  {
   "cell_type": "code",
   "execution_count": 22,
   "metadata": {
    "scrolled": true
   },
   "outputs": [
    {
     "data": {
      "image/png": "[encoded data removed]",
      "text/plain": [
       "<Figure size 720x576 with 4 Axes>"
      ]
     },
     "metadata": {
      "needs_background": "light"
     },
     "output_type": "display_data"
    }
   ],
   "source": [
    "#checking for the density of the variable\n",
    "plt.figure(figsize=(10, 8))\n",
    "col = 1\n",
    "for i in wi.columns:\n",
    "    plt.subplot(2, 2, col)\n",
    "    sns.distplot(wi[i], color = 'b')\n",
    "    col += 1 \n"
   ]
  },
  {
   "cell_type": "markdown",
   "metadata": {},
   "source": [
    "#### Insight: The chemical compositions are on the same scales between 0 to 200"
   ]
  },
  {
   "cell_type": "code",
   "execution_count": 23,
   "metadata": {},
   "outputs": [
    {
     "data": {
      "text/html": [
       "<div>\n",
       "<style scoped>\n",
       "    .dataframe tbody tr th:only-of-type {\n",
       "        vertical-align: middle;\n",
       "    }\n",
       "\n",
       "    .dataframe tbody tr th {\n",
       "        vertical-align: top;\n",
       "    }\n",
       "\n",
       "    .dataframe thead th {\n",
       "        text-align: right;\n",
       "    }\n",
       "</style>\n",
       "<table border=\"1\" class=\"dataframe\">\n",
       "  <thead>\n",
       "    <tr style=\"text-align: right;\">\n",
       "      <th></th>\n",
       "      <th>A</th>\n",
       "      <th>B</th>\n",
       "      <th>C</th>\n",
       "      <th>D</th>\n",
       "    </tr>\n",
       "  </thead>\n",
       "  <tbody>\n",
       "    <tr>\n",
       "      <td>0</td>\n",
       "      <td>-1.168034</td>\n",
       "      <td>-1.561080</td>\n",
       "      <td>-1.061569</td>\n",
       "      <td>-0.103138</td>\n",
       "    </tr>\n",
       "    <tr>\n",
       "      <td>1</td>\n",
       "      <td>0.904992</td>\n",
       "      <td>0.284923</td>\n",
       "      <td>0.306077</td>\n",
       "      <td>0.823013</td>\n",
       "    </tr>\n",
       "    <tr>\n",
       "      <td>2</td>\n",
       "      <td>0.660147</td>\n",
       "      <td>0.807376</td>\n",
       "      <td>0.321443</td>\n",
       "      <td>0.264129</td>\n",
       "    </tr>\n",
       "    <tr>\n",
       "      <td>3</td>\n",
       "      <td>-0.939512</td>\n",
       "      <td>-1.630740</td>\n",
       "      <td>-1.706975</td>\n",
       "      <td>-1.125099</td>\n",
       "    </tr>\n",
       "    <tr>\n",
       "      <td>4</td>\n",
       "      <td>-0.972158</td>\n",
       "      <td>-0.986381</td>\n",
       "      <td>-1.614775</td>\n",
       "      <td>-0.741864</td>\n",
       "    </tr>\n",
       "  </tbody>\n",
       "</table>\n",
       "</div>"
      ],
      "text/plain": [
       "          A         B         C         D\n",
       "0 -1.168034 -1.561080 -1.061569 -0.103138\n",
       "1  0.904992  0.284923  0.306077  0.823013\n",
       "2  0.660147  0.807376  0.321443  0.264129\n",
       "3 -0.939512 -1.630740 -1.706975 -1.125099\n",
       "4 -0.972158 -0.986381 -1.614775 -0.741864"
      ]
     },
     "execution_count": 23,
     "metadata": {},
     "output_type": "execute_result"
    }
   ],
   "source": [
    "#scaling the numeric variables\n",
    "w1 = wi.apply(zscore)\n",
    "w1.head()"
   ]
  },
  {
   "cell_type": "code",
   "execution_count": 24,
   "metadata": {},
   "outputs": [
    {
     "data": {
      "text/plain": [
       "Quality A    26\n",
       "Quality B    17\n",
       "Name: Quality, dtype: int64"
      ]
     },
     "execution_count": 24,
     "metadata": {},
     "output_type": "execute_result"
    }
   ],
   "source": [
    "#checking for the distribution of the target variables\n",
    "wi1['Quality'].value_counts()"
   ]
  },
  {
   "cell_type": "code",
   "execution_count": 26,
   "metadata": {},
   "outputs": [
    {
     "data": {
      "image/png": "[encoded data removed]",
      "text/plain": [
       "<Figure size 1080x360 with 2 Axes>"
      ]
     },
     "metadata": {
      "needs_background": "light"
     },
     "output_type": "display_data"
    }
   ],
   "source": [
    "f,axes=plt.subplots(1,2,figsize=(15,5))\n",
    "wi1['Quality'].value_counts().plot.pie(autopct='%1.1f%%',ax=axes[0])\n",
    "sns.countplot('Quality',data=wi1,ax=axes[1])\n",
    "axes[0].set_title('Quality Pie Chart')\n",
    "axes[1].set_title('Quality Bar Graph')\n",
    "plt.show()"
   ]
  },
  {
   "cell_type": "code",
   "execution_count": 27,
   "metadata": {},
   "outputs": [],
   "source": [
    "#applying kmeans with 2 centroids\n",
    "k_means = KMeans(n_clusters = 2)\n",
    "k_means.fit(w1)\n",
    "labels = k_means.labels_"
   ]
  },
  {
   "cell_type": "code",
   "execution_count": 28,
   "metadata": {},
   "outputs": [
    {
     "data": {
      "text/plain": [
       "0.6891674125195145"
      ]
     },
     "execution_count": 28,
     "metadata": {},
     "output_type": "execute_result"
    }
   ],
   "source": [
    "# Calculating silhouette_score\n",
    "silhouette_score(w1,labels)"
   ]
  },
  {
   "cell_type": "code",
   "execution_count": 29,
   "metadata": {},
   "outputs": [],
   "source": [
    "#attaching the cluster labels to the original dataset\n",
    "wi1[\"Quality_k\"] = labels"
   ]
  },
  {
   "cell_type": "code",
   "execution_count": 30,
   "metadata": {},
   "outputs": [
    {
     "data": {
      "text/html": [
       "<div>\n",
       "<style scoped>\n",
       "    .dataframe tbody tr th:only-of-type {\n",
       "        vertical-align: middle;\n",
       "    }\n",
       "\n",
       "    .dataframe tbody tr th {\n",
       "        vertical-align: top;\n",
       "    }\n",
       "\n",
       "    .dataframe thead th {\n",
       "        text-align: right;\n",
       "    }\n",
       "</style>\n",
       "<table border=\"1\" class=\"dataframe\">\n",
       "  <thead>\n",
       "    <tr style=\"text-align: right;\">\n",
       "      <th></th>\n",
       "      <th>A</th>\n",
       "      <th>B</th>\n",
       "      <th>C</th>\n",
       "      <th>D</th>\n",
       "      <th>Quality</th>\n",
       "      <th>Quality_k</th>\n",
       "    </tr>\n",
       "  </thead>\n",
       "  <tbody>\n",
       "    <tr>\n",
       "      <td>0</td>\n",
       "      <td>47</td>\n",
       "      <td>27</td>\n",
       "      <td>45</td>\n",
       "      <td>108</td>\n",
       "      <td>Quality A</td>\n",
       "      <td>1</td>\n",
       "    </tr>\n",
       "    <tr>\n",
       "      <td>1</td>\n",
       "      <td>174</td>\n",
       "      <td>133</td>\n",
       "      <td>134</td>\n",
       "      <td>166</td>\n",
       "      <td>Quality B</td>\n",
       "      <td>0</td>\n",
       "    </tr>\n",
       "    <tr>\n",
       "      <td>2</td>\n",
       "      <td>159</td>\n",
       "      <td>163</td>\n",
       "      <td>135</td>\n",
       "      <td>131</td>\n",
       "      <td>NaN</td>\n",
       "      <td>0</td>\n",
       "    </tr>\n",
       "    <tr>\n",
       "      <td>3</td>\n",
       "      <td>61</td>\n",
       "      <td>23</td>\n",
       "      <td>3</td>\n",
       "      <td>44</td>\n",
       "      <td>Quality A</td>\n",
       "      <td>1</td>\n",
       "    </tr>\n",
       "    <tr>\n",
       "      <td>4</td>\n",
       "      <td>59</td>\n",
       "      <td>60</td>\n",
       "      <td>9</td>\n",
       "      <td>68</td>\n",
       "      <td>Quality A</td>\n",
       "      <td>1</td>\n",
       "    </tr>\n",
       "    <tr>\n",
       "      <td>5</td>\n",
       "      <td>153</td>\n",
       "      <td>140</td>\n",
       "      <td>154</td>\n",
       "      <td>199</td>\n",
       "      <td>NaN</td>\n",
       "      <td>0</td>\n",
       "    </tr>\n",
       "    <tr>\n",
       "      <td>6</td>\n",
       "      <td>34</td>\n",
       "      <td>28</td>\n",
       "      <td>78</td>\n",
       "      <td>22</td>\n",
       "      <td>Quality A</td>\n",
       "      <td>1</td>\n",
       "    </tr>\n",
       "    <tr>\n",
       "      <td>7</td>\n",
       "      <td>191</td>\n",
       "      <td>144</td>\n",
       "      <td>143</td>\n",
       "      <td>154</td>\n",
       "      <td>NaN</td>\n",
       "      <td>0</td>\n",
       "    </tr>\n",
       "    <tr>\n",
       "      <td>8</td>\n",
       "      <td>160</td>\n",
       "      <td>181</td>\n",
       "      <td>194</td>\n",
       "      <td>178</td>\n",
       "      <td>Quality B</td>\n",
       "      <td>0</td>\n",
       "    </tr>\n",
       "    <tr>\n",
       "      <td>9</td>\n",
       "      <td>145</td>\n",
       "      <td>178</td>\n",
       "      <td>158</td>\n",
       "      <td>141</td>\n",
       "      <td>NaN</td>\n",
       "      <td>0</td>\n",
       "    </tr>\n",
       "    <tr>\n",
       "      <td>10</td>\n",
       "      <td>76</td>\n",
       "      <td>94</td>\n",
       "      <td>107</td>\n",
       "      <td>37</td>\n",
       "      <td>Quality A</td>\n",
       "      <td>1</td>\n",
       "    </tr>\n",
       "    <tr>\n",
       "      <td>11</td>\n",
       "      <td>138</td>\n",
       "      <td>200</td>\n",
       "      <td>153</td>\n",
       "      <td>192</td>\n",
       "      <td>Quality B</td>\n",
       "      <td>0</td>\n",
       "    </tr>\n",
       "    <tr>\n",
       "      <td>12</td>\n",
       "      <td>27</td>\n",
       "      <td>106</td>\n",
       "      <td>57</td>\n",
       "      <td>37</td>\n",
       "      <td>Quality A</td>\n",
       "      <td>1</td>\n",
       "    </tr>\n",
       "    <tr>\n",
       "      <td>13</td>\n",
       "      <td>45</td>\n",
       "      <td>76</td>\n",
       "      <td>56</td>\n",
       "      <td>57</td>\n",
       "      <td>Quality A</td>\n",
       "      <td>1</td>\n",
       "    </tr>\n",
       "    <tr>\n",
       "      <td>14</td>\n",
       "      <td>186</td>\n",
       "      <td>142</td>\n",
       "      <td>146</td>\n",
       "      <td>174</td>\n",
       "      <td>NaN</td>\n",
       "      <td>0</td>\n",
       "    </tr>\n",
       "  </tbody>\n",
       "</table>\n",
       "</div>"
      ],
      "text/plain": [
       "      A    B    C    D    Quality  Quality_k\n",
       "0    47   27   45  108  Quality A          1\n",
       "1   174  133  134  166  Quality B          0\n",
       "2   159  163  135  131        NaN          0\n",
       "3    61   23    3   44  Quality A          1\n",
       "4    59   60    9   68  Quality A          1\n",
       "5   153  140  154  199        NaN          0\n",
       "6    34   28   78   22  Quality A          1\n",
       "7   191  144  143  154        NaN          0\n",
       "8   160  181  194  178  Quality B          0\n",
       "9   145  178  158  141        NaN          0\n",
       "10   76   94  107   37  Quality A          1\n",
       "11  138  200  153  192  Quality B          0\n",
       "12   27  106   57   37  Quality A          1\n",
       "13   45   76   56   57  Quality A          1\n",
       "14  186  142  146  174        NaN          0"
      ]
     },
     "execution_count": 30,
     "metadata": {},
     "output_type": "execute_result"
    }
   ],
   "source": [
    "#checking for the first 15 observations\n",
    "wi1.head(15)"
   ]
  },
  {
   "cell_type": "code",
   "execution_count": 32,
   "metadata": {},
   "outputs": [
    {
     "data": {
      "text/html": [
       "<div>\n",
       "<style scoped>\n",
       "    .dataframe tbody tr th:only-of-type {\n",
       "        vertical-align: middle;\n",
       "    }\n",
       "\n",
       "    .dataframe tbody tr th {\n",
       "        vertical-align: top;\n",
       "    }\n",
       "\n",
       "    .dataframe thead th {\n",
       "        text-align: right;\n",
       "    }\n",
       "</style>\n",
       "<table border=\"1\" class=\"dataframe\">\n",
       "  <thead>\n",
       "    <tr style=\"text-align: right;\">\n",
       "      <th></th>\n",
       "      <th>A</th>\n",
       "      <th>B</th>\n",
       "      <th>C</th>\n",
       "      <th>D</th>\n",
       "      <th>Quality</th>\n",
       "      <th>Quality_k</th>\n",
       "    </tr>\n",
       "  </thead>\n",
       "  <tbody>\n",
       "    <tr>\n",
       "      <td>0</td>\n",
       "      <td>47</td>\n",
       "      <td>27</td>\n",
       "      <td>45</td>\n",
       "      <td>108</td>\n",
       "      <td>Quality A</td>\n",
       "      <td>Quality B</td>\n",
       "    </tr>\n",
       "    <tr>\n",
       "      <td>1</td>\n",
       "      <td>174</td>\n",
       "      <td>133</td>\n",
       "      <td>134</td>\n",
       "      <td>166</td>\n",
       "      <td>Quality B</td>\n",
       "      <td>Quality A</td>\n",
       "    </tr>\n",
       "    <tr>\n",
       "      <td>2</td>\n",
       "      <td>159</td>\n",
       "      <td>163</td>\n",
       "      <td>135</td>\n",
       "      <td>131</td>\n",
       "      <td>NaN</td>\n",
       "      <td>Quality A</td>\n",
       "    </tr>\n",
       "    <tr>\n",
       "      <td>3</td>\n",
       "      <td>61</td>\n",
       "      <td>23</td>\n",
       "      <td>3</td>\n",
       "      <td>44</td>\n",
       "      <td>Quality A</td>\n",
       "      <td>Quality B</td>\n",
       "    </tr>\n",
       "    <tr>\n",
       "      <td>4</td>\n",
       "      <td>59</td>\n",
       "      <td>60</td>\n",
       "      <td>9</td>\n",
       "      <td>68</td>\n",
       "      <td>Quality A</td>\n",
       "      <td>Quality B</td>\n",
       "    </tr>\n",
       "    <tr>\n",
       "      <td>...</td>\n",
       "      <td>...</td>\n",
       "      <td>...</td>\n",
       "      <td>...</td>\n",
       "      <td>...</td>\n",
       "      <td>...</td>\n",
       "      <td>...</td>\n",
       "    </tr>\n",
       "    <tr>\n",
       "      <td>56</td>\n",
       "      <td>200</td>\n",
       "      <td>186</td>\n",
       "      <td>185</td>\n",
       "      <td>179</td>\n",
       "      <td>Quality B</td>\n",
       "      <td>Quality A</td>\n",
       "    </tr>\n",
       "    <tr>\n",
       "      <td>57</td>\n",
       "      <td>137</td>\n",
       "      <td>182</td>\n",
       "      <td>165</td>\n",
       "      <td>199</td>\n",
       "      <td>NaN</td>\n",
       "      <td>Quality A</td>\n",
       "    </tr>\n",
       "    <tr>\n",
       "      <td>58</td>\n",
       "      <td>88</td>\n",
       "      <td>39</td>\n",
       "      <td>9</td>\n",
       "      <td>102</td>\n",
       "      <td>NaN</td>\n",
       "      <td>Quality B</td>\n",
       "    </tr>\n",
       "    <tr>\n",
       "      <td>59</td>\n",
       "      <td>180</td>\n",
       "      <td>157</td>\n",
       "      <td>192</td>\n",
       "      <td>198</td>\n",
       "      <td>NaN</td>\n",
       "      <td>Quality A</td>\n",
       "    </tr>\n",
       "    <tr>\n",
       "      <td>60</td>\n",
       "      <td>157</td>\n",
       "      <td>135</td>\n",
       "      <td>135</td>\n",
       "      <td>156</td>\n",
       "      <td>NaN</td>\n",
       "      <td>Quality A</td>\n",
       "    </tr>\n",
       "  </tbody>\n",
       "</table>\n",
       "<p>61 rows × 6 columns</p>\n",
       "</div>"
      ],
      "text/plain": [
       "      A    B    C    D    Quality  Quality_k\n",
       "0    47   27   45  108  Quality A  Quality B\n",
       "1   174  133  134  166  Quality B  Quality A\n",
       "2   159  163  135  131        NaN  Quality A\n",
       "3    61   23    3   44  Quality A  Quality B\n",
       "4    59   60    9   68  Quality A  Quality B\n",
       "..  ...  ...  ...  ...        ...        ...\n",
       "56  200  186  185  179  Quality B  Quality A\n",
       "57  137  182  165  199        NaN  Quality A\n",
       "58   88   39    9  102        NaN  Quality B\n",
       "59  180  157  192  198        NaN  Quality A\n",
       "60  157  135  135  156        NaN  Quality A\n",
       "\n",
       "[61 rows x 6 columns]"
      ]
     },
     "execution_count": 32,
     "metadata": {},
     "output_type": "execute_result"
    }
   ],
   "source": [
    "#renaming the cluster labels\n",
    "wi1['Quality_k'] = wi1['Quality_k'].replace({0: 'Quality A', 1: 'Quality B'})\n",
    "wi1"
   ]
  },
  {
   "cell_type": "code",
   "execution_count": 33,
   "metadata": {},
   "outputs": [
    {
     "data": {
      "text/plain": [
       "A             int64\n",
       "B             int64\n",
       "C             int64\n",
       "D             int64\n",
       "Quality      object\n",
       "Quality_k    object\n",
       "dtype: object"
      ]
     },
     "execution_count": 33,
     "metadata": {},
     "output_type": "execute_result"
    }
   ],
   "source": [
    "#checking for datatypes\n",
    "wi1.dtypes"
   ]
  },
  {
   "cell_type": "code",
   "execution_count": 34,
   "metadata": {},
   "outputs": [],
   "source": [
    "#dropping na rows\n",
    "wn=wi1.dropna()"
   ]
  },
  {
   "cell_type": "code",
   "execution_count": 38,
   "metadata": {},
   "outputs": [
    {
     "data": {
      "text/plain": [
       "(43, 6)"
      ]
     },
     "execution_count": 38,
     "metadata": {},
     "output_type": "execute_result"
    }
   ],
   "source": [
    "#checking for the shape\n",
    "wn.shape"
   ]
  },
  {
   "cell_type": "code",
   "execution_count": 39,
   "metadata": {},
   "outputs": [],
   "source": [
    "#using the cluster labels and actual target labels to check for accuracy\n",
    "pred = wn['Quality_k']\n",
    "actual=wn['Quality']"
   ]
  },
  {
   "cell_type": "code",
   "execution_count": 40,
   "metadata": {},
   "outputs": [
    {
     "data": {
      "image/png": "[encoded data removed]",
      "text/plain": [
       "<Figure size 864x576 with 2 Axes>"
      ]
     },
     "metadata": {
      "needs_background": "light"
     },
     "output_type": "display_data"
    }
   ],
   "source": [
    "#visualization of confusion matrix in the form of a heatmap\n",
    "cm= confusion_matrix(actual, pred)\n",
    "plt.figure(figsize = (12, 8))\n",
    "sns.heatmap(cm, annot = True, cmap = 'RdYlGn', fmt = 'd')\n",
    "plt.xlabel('Actual Classes', fontsize = 15)\n",
    "plt.ylabel('Predicted Classes', fontsize = 15)\n",
    "plt.title('Confusion Matrix HeatMap', fontsize = 15);"
   ]
  },
  {
   "cell_type": "markdown",
   "metadata": {},
   "source": [
    "### Summary: There appears to be no misclassification when checking the it with the non missing target variables and the predicted clusters, Hence the new labels can be used as a target variable"
   ]
  },
  {
   "cell_type": "code",
   "execution_count": null,
   "metadata": {},
   "outputs": [],
   "source": []
  }
 ],
 "metadata": {
  "kernelspec": {
   "display_name": "Python 3",
   "language": "python",
   "name": "python3"
  },
  "language_info": {
   "codemirror_mode": {
    "name": "ipython",
    "version": 3
   },
   "file_extension": ".py",
   "mimetype": "text/x-python",
   "name": "python",
   "nbconvert_exporter": "python",
   "pygments_lexer": "ipython3",
   "version": "3.7.4"
  }
 },
 "nbformat": 4,
 "nbformat_minor": 2
}
